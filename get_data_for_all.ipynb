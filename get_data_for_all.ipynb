{
 "cells": [
  {
   "cell_type": "code",
   "execution_count": null,
   "metadata": {
    "colab": {
     "base_uri": "https://localhost:8080/"
    },
    "collapsed": true,
    "id": "THKuegPQlPgF",
    "jupyter": {
     "outputs_hidden": true
    },
    "outputId": "5b1d77e9-8fc4-4abd-effe-c552492adddd"
   },
   "outputs": [
    {
     "name": "stdout",
     "output_type": "stream",
     "text": [
      "Mounted at /content/gdrive\n"
     ]
    }
   ],
   "source": [
    "# from google.colab import drive\n",
    "\n",
    "# drive.mount('/content/gdrive')\n",
    "# import os\n",
    "# os.chdir('/content/gdrive/My Drive/RL_experiment')"
   ]
  },
  {
   "cell_type": "code",
   "execution_count": null,
   "metadata": {
    "colab": {
     "base_uri": "https://localhost:8080/"
    },
    "id": "qoDavFhkleFo",
    "outputId": "1bd6b9bc-216e-4637-843d-fbe89c1ac066"
   },
   "outputs": [
    {
     "name": "stdout",
     "output_type": "stream",
     "text": [
      "Collecting scikit-multiflow\n",
      "\u001b[?25l  Downloading https://files.pythonhosted.org/packages/71/ac/5f4675aa1e9f4c2a1d139241b50288a17e4048f5bad3484b18efc6acc4b8/scikit_multiflow-0.5.3-cp36-cp36m-manylinux2010_x86_64.whl (1.1MB)\n",
      "\u001b[K     |████████████████████████████████| 1.1MB 9.6MB/s \n",
      "\u001b[?25hRequirement already satisfied: scikit-learn>=0.20 in /usr/local/lib/python3.6/dist-packages (from scikit-multiflow) (0.22.2.post1)\n",
      "Requirement already satisfied: numpy>=1.14.0 in /usr/local/lib/python3.6/dist-packages (from scikit-multiflow) (1.19.4)\n",
      "Requirement already satisfied: pandas>=0.25.3 in /usr/local/lib/python3.6/dist-packages (from scikit-multiflow) (1.1.5)\n",
      "Requirement already satisfied: matplotlib>=2.0.0 in /usr/local/lib/python3.6/dist-packages (from scikit-multiflow) (3.2.2)\n",
      "Requirement already satisfied: sortedcontainers>=1.5.7 in /usr/local/lib/python3.6/dist-packages (from scikit-multiflow) (2.3.0)\n",
      "Requirement already satisfied: scipy>=1.0.0 in /usr/local/lib/python3.6/dist-packages (from scikit-multiflow) (1.4.1)\n",
      "Requirement already satisfied: joblib>=0.11 in /usr/local/lib/python3.6/dist-packages (from scikit-learn>=0.20->scikit-multiflow) (1.0.0)\n",
      "Requirement already satisfied: python-dateutil>=2.7.3 in /usr/local/lib/python3.6/dist-packages (from pandas>=0.25.3->scikit-multiflow) (2.8.1)\n",
      "Requirement already satisfied: pytz>=2017.2 in /usr/local/lib/python3.6/dist-packages (from pandas>=0.25.3->scikit-multiflow) (2018.9)\n",
      "Requirement already satisfied: cycler>=0.10 in /usr/local/lib/python3.6/dist-packages (from matplotlib>=2.0.0->scikit-multiflow) (0.10.0)\n",
      "Requirement already satisfied: kiwisolver>=1.0.1 in /usr/local/lib/python3.6/dist-packages (from matplotlib>=2.0.0->scikit-multiflow) (1.3.1)\n",
      "Requirement already satisfied: pyparsing!=2.0.4,!=2.1.2,!=2.1.6,>=2.0.1 in /usr/local/lib/python3.6/dist-packages (from matplotlib>=2.0.0->scikit-multiflow) (2.4.7)\n",
      "Requirement already satisfied: six>=1.5 in /usr/local/lib/python3.6/dist-packages (from python-dateutil>=2.7.3->pandas>=0.25.3->scikit-multiflow) (1.15.0)\n",
      "Installing collected packages: scikit-multiflow\n",
      "Successfully installed scikit-multiflow-0.5.3\n"
     ]
    }
   ],
   "source": [
    "# pip install  scikit-multiflow"
   ]
  },
  {
   "cell_type": "code",
   "execution_count": 1,
   "metadata": {
    "colab": {
     "base_uri": "https://localhost:8080/"
    },
    "id": "sDORw6DDlPgN",
    "outputId": "5f55c276-bee7-4436-fc0c-2abf49b05b5c",
    "pycharm": {
     "name": "#%%\n"
    }
   },
   "outputs": [],
   "source": [
    "from sklearn import preprocessing\n",
    "%load_ext autoreload\n",
    "%autoreload 2\n",
    "from sklearn.preprocessing import LabelEncoder\n",
    "\n",
    "\n",
    "# from main_with_RL import *\n",
    "import numpy as np\n",
    "import pandas as pd\n",
    "# from actor import *\n",
    "\n",
    "from get_data_7 import *\n"
   ]
  },
  {
   "cell_type": "code",
   "execution_count": 2,
   "metadata": {
    "id": "mr-xzY_plPgQ",
    "pycharm": {
     "name": "#%%\n"
    }
   },
   "outputs": [],
   "source": [
    "\n",
    "# num_hidden_units = 128\n",
    "# num_actions = 3\n",
    "# model = ActorCritic(num_actions, num_hidden_units)\n",
    "# model.load_weights(f'./experiment1/{3000}')"
   ]
  },
  {
   "cell_type": "code",
   "execution_count": 2,
   "metadata": {
    "id": "yv6uXiH4lPgR",
    "pycharm": {
     "name": "#%%\n"
    }
   },
   "outputs": [],
   "source": [
    "np.random.seed(0)\n",
    "data= pd.read_csv(\"PAMAP.csv\")\n",
    "data_semi11 = np.array(data)\n",
    "np.random.shuffle(data_semi11)\n",
    "# pd.DataFrame(data_semi).to_csv(\"PAMAP_shuffled.csv\",index=False)\n",
    "data_semi11[np.where(data_semi11[:,-1]==6),-1] = 0\n",
    "\n",
    "data_semi11[:,:-1] = preprocessing.scale(data_semi11[:,:-1])\n",
    "# print(data_semi15.shape)\n",
    "classes11 = [0,1,2,3,4,5]"
   ]
  },
  {
   "cell_type": "code",
   "execution_count": 3,
   "metadata": {
    "id": "OWIUlPZilPgR",
    "pycharm": {
     "name": "#%%\n"
    }
   },
   "outputs": [],
   "source": [
    "# data_semi12[:1000,-1]"
   ]
  },
  {
   "cell_type": "code",
   "execution_count": 4,
   "metadata": {
    "id": "m1sBGmhvlPgR",
    "pycharm": {
     "name": "#%%\n"
    }
   },
   "outputs": [],
   "source": [
    "\n",
    "from skmultiflow.data.random_rbf_generator_drift import RandomRBFGeneratorDrift\n",
    "stream = RandomRBFGeneratorDrift(model_random_state=10, sample_random_state=10, n_classes=5,\n",
    "\n",
    "n_features=10, n_centroids=50,change_speed=0.15,num_drift_centroids=30)\n",
    "\n",
    "\n"
   ]
  },
  {
   "cell_type": "code",
   "execution_count": 5,
   "metadata": {
    "id": "bEXebSdQlPgR",
    "pycharm": {
     "name": "#%%\n"
    }
   },
   "outputs": [],
   "source": [
    "\n",
    "\n",
    "\n",
    "data = stream.next_sample(50000)\n",
    "data_semi1 = np.hstack((data[0],np.reshape(np.array(data[1]).astype(int),(-1,1))))\n",
    "classes1 = [0,1,2,3,4]"
   ]
  },
  {
   "cell_type": "code",
   "execution_count": 6,
   "metadata": {
    "id": "08-3eTyrlPgS",
    "pycharm": {
     "name": "#%%\n"
    }
   },
   "outputs": [],
   "source": [
    "from skmultiflow.data.random_rbf_generator import RandomRBFGenerator\n",
    "stream = RandomRBFGenerator(model_random_state=10, sample_random_state=10, n_classes=5,\n",
    "\n",
    "n_features=10, n_centroids=50)\n",
    "\n",
    "\n"
   ]
  },
  {
   "cell_type": "code",
   "execution_count": 7,
   "metadata": {
    "id": "KqSzh6PnlPgS",
    "pycharm": {
     "name": "#%%\n"
    }
   },
   "outputs": [],
   "source": [
    "\n",
    "data = stream.next_sample(50000)\n",
    "data_semi2 = np.hstack((data[0],np.reshape(np.array(data[1]).astype(int),(-1,1))))\n",
    "classes2 = [0,1,2,3,4]\n",
    "\n"
   ]
  },
  {
   "cell_type": "code",
   "execution_count": 8,
   "metadata": {
    "id": "Bbp1sNUGlPgS",
    "pycharm": {
     "name": "#%%\n"
    }
   },
   "outputs": [],
   "source": [
    "data = pd.read_csv(\"chemical.csv\")\n",
    "data_semi4 = np.array(data).astype(float)\n",
    "# scaler = preprocessing.StandardScaler().fit(data_semi[:,:-1])\n",
    "# data_semi[:,:-1] = scaler.transform(data_semi[:,:-1])\n",
    "data_semi4[np.where(data_semi4[ :,-1]==6),-1] = 0\n",
    "classes4 = [0,1,2,3,4,5]\n",
    "data_semi4[:,:-1] = preprocessing.scale(data_semi4[:,:-1])\n",
    "# np.random.shuffle(data_semi)"
   ]
  },
  {
   "cell_type": "code",
   "execution_count": 9,
   "metadata": {
    "id": "4PNbL3cClPgS",
    "pycharm": {
     "name": "#%%\n"
    }
   },
   "outputs": [],
   "source": [
    "\n",
    "from skmultiflow.data.waveform_generator import WaveformGenerator\n",
    "# Setting up the stream\n",
    "stream = WaveformGenerator(random_state=10, has_noise=False)\n",
    "# Retrieving one sample\n",
    "data = stream.next_sample(30000)\n",
    "data_semi5 = np.hstack((data[0],np.reshape(np.array(data[1]).astype(int),(-1,1))))\n",
    "data_semi5[:,:-1] = preprocessing.scale(data_semi5[:,:-1])\n",
    "classes5 = [0,1,2]"
   ]
  },
  {
   "cell_type": "code",
   "execution_count": 10,
   "metadata": {
    "id": "ENHWFfiWlPgT",
    "pycharm": {
     "name": "#%%\n"
    }
   },
   "outputs": [],
   "source": [
    "from skmultiflow.data.sea_generator import SEAGenerator\n",
    "# Setting up the stream\n",
    "stream = SEAGenerator(classification_function = 2, random_state = 10,\n",
    " balance_classes = False, noise_percentage = 0.28)\n",
    "data = stream.next_sample(30000)\n",
    "data_semi6 = np.hstack((data[0],np.reshape(np.array(data[1]).astype(int),(-1,1))))\n",
    "data_semi6[:,:-1] = preprocessing.scale(data_semi6[:,:-1])\n",
    "classes6 = [0,1]"
   ]
  },
  {
   "cell_type": "code",
   "execution_count": 11,
   "metadata": {
    "id": "Tn-H9eBelPgT",
    "pycharm": {
     "name": "#%%\n"
    }
   },
   "outputs": [],
   "source": [
    "data= pd.read_csv(\"activity_data.csv\")\n",
    "data_semi7 = np.array(data)\n",
    "data_semi7[np.where(data_semi7[:,-1]==6),-1] = 0\n",
    "# data_semi7[:,:-1] = preprocessing.scale(data_semi7[:,:-1])\n",
    "classes7 = [0,1,2,3,4,5]"
   ]
  },
  {
   "cell_type": "code",
   "execution_count": 12,
   "metadata": {
    "id": "ve7X-w6qlPgT",
    "pycharm": {
     "name": "#%%\n"
    }
   },
   "outputs": [],
   "source": [
    "data= pd.read_csv(\"nursery.data\")\n",
    "le = LabelEncoder()\n",
    "data.iloc[:, :] = data.iloc[:,:].apply(lambda col: le.fit_transform(col))\n",
    "data_semi8 = np.array(data)\n",
    "data_semi8[:,:-1] = preprocessing.scale(data_semi8[:,:-1])\n",
    "data_semi8 = data_semi8[:50000]\n",
    "classes8 = [0,1,2,3,4]\n",
    "\n"
   ]
  },
  {
   "cell_type": "code",
   "execution_count": 13,
   "metadata": {
    "id": "x4jT7v5LlPgT",
    "pycharm": {
     "name": "#%%\n"
    }
   },
   "outputs": [],
   "source": [
    "import scipy.io\n",
    "mat = scipy.io.loadmat('shuttle_Norm.mat')"
   ]
  },
  {
   "cell_type": "code",
   "execution_count": 14,
   "metadata": {
    "id": "5Teu2XeAlPgU",
    "pycharm": {
     "name": "#%%\n"
    }
   },
   "outputs": [],
   "source": [
    "data_semi9 = np.array(mat['shuttle_Norm'])\n",
    "classes9 = np.unique(data_semi9[:,-1])"
   ]
  },
  {
   "cell_type": "code",
   "execution_count": 15,
   "metadata": {
    "id": "WBVFIfHRlPgU",
    "pycharm": {
     "name": "#%%\n"
    }
   },
   "outputs": [],
   "source": [
    "mat = scipy.io.loadmat('weather.mat')\n",
    "data_semi10 = np.array(mat['weather'])\n",
    "classes10 = [0,1]"
   ]
  },
  {
   "cell_type": "code",
   "execution_count": 16,
   "metadata": {
    "id": "lQ_f8LJ9lPgU",
    "pycharm": {
     "name": "#%%\n"
    }
   },
   "outputs": [
    {
     "data": {
      "text/html": [
       "<div>\n",
       "<style scoped>\n",
       "    .dataframe tbody tr th:only-of-type {\n",
       "        vertical-align: middle;\n",
       "    }\n",
       "\n",
       "    .dataframe tbody tr th {\n",
       "        vertical-align: top;\n",
       "    }\n",
       "\n",
       "    .dataframe thead th {\n",
       "        text-align: right;\n",
       "    }\n",
       "</style>\n",
       "<table border=\"1\" class=\"dataframe\">\n",
       "  <thead>\n",
       "    <tr style=\"text-align: right;\">\n",
       "      <th></th>\n",
       "      <th>0</th>\n",
       "      <th>1</th>\n",
       "      <th>2</th>\n",
       "      <th>3</th>\n",
       "      <th>4</th>\n",
       "      <th>5</th>\n",
       "      <th>6</th>\n",
       "      <th>7</th>\n",
       "      <th>8</th>\n",
       "    </tr>\n",
       "  </thead>\n",
       "  <tbody>\n",
       "    <tr>\n",
       "      <th>0</th>\n",
       "      <td>-1.466621</td>\n",
       "      <td>-1.002276</td>\n",
       "      <td>-1.624220</td>\n",
       "      <td>-0.154269</td>\n",
       "      <td>-0.063449</td>\n",
       "      <td>-0.000003</td>\n",
       "      <td>-6.259737e-07</td>\n",
       "      <td>-0.558223</td>\n",
       "      <td>1.0</td>\n",
       "    </tr>\n",
       "    <tr>\n",
       "      <th>1</th>\n",
       "      <td>-1.466621</td>\n",
       "      <td>-1.002276</td>\n",
       "      <td>-1.552036</td>\n",
       "      <td>-0.159520</td>\n",
       "      <td>-0.247446</td>\n",
       "      <td>-0.000003</td>\n",
       "      <td>-6.259737e-07</td>\n",
       "      <td>-0.558223</td>\n",
       "      <td>1.0</td>\n",
       "    </tr>\n",
       "    <tr>\n",
       "      <th>2</th>\n",
       "      <td>-1.466621</td>\n",
       "      <td>-1.002276</td>\n",
       "      <td>-1.479849</td>\n",
       "      <td>-0.309655</td>\n",
       "      <td>-0.678280</td>\n",
       "      <td>-0.000003</td>\n",
       "      <td>-6.259737e-07</td>\n",
       "      <td>-0.558223</td>\n",
       "      <td>1.0</td>\n",
       "    </tr>\n",
       "    <tr>\n",
       "      <th>3</th>\n",
       "      <td>-1.466621</td>\n",
       "      <td>-1.002276</td>\n",
       "      <td>-1.407665</td>\n",
       "      <td>-0.384747</td>\n",
       "      <td>-1.067222</td>\n",
       "      <td>-0.000003</td>\n",
       "      <td>-6.259737e-07</td>\n",
       "      <td>-0.558223</td>\n",
       "      <td>0.0</td>\n",
       "    </tr>\n",
       "    <tr>\n",
       "      <th>4</th>\n",
       "      <td>-1.466621</td>\n",
       "      <td>-1.002276</td>\n",
       "      <td>-1.335478</td>\n",
       "      <td>-0.417780</td>\n",
       "      <td>-1.334105</td>\n",
       "      <td>-0.000003</td>\n",
       "      <td>-6.259737e-07</td>\n",
       "      <td>-0.558223</td>\n",
       "      <td>0.0</td>\n",
       "    </tr>\n",
       "    <tr>\n",
       "      <th>...</th>\n",
       "      <td>...</td>\n",
       "      <td>...</td>\n",
       "      <td>...</td>\n",
       "      <td>...</td>\n",
       "      <td>...</td>\n",
       "      <td>...</td>\n",
       "      <td>...</td>\n",
       "      <td>...</td>\n",
       "      <td>...</td>\n",
       "    </tr>\n",
       "    <tr>\n",
       "      <th>45306</th>\n",
       "      <td>1.224537</td>\n",
       "      <td>1.499384</td>\n",
       "      <td>1.407590</td>\n",
       "      <td>-0.341187</td>\n",
       "      <td>-0.518884</td>\n",
       "      <td>-0.042498</td>\n",
       "      <td>-1.387720e+00</td>\n",
       "      <td>-0.621135</td>\n",
       "      <td>0.0</td>\n",
       "    </tr>\n",
       "    <tr>\n",
       "      <th>45307</th>\n",
       "      <td>1.224537</td>\n",
       "      <td>1.499384</td>\n",
       "      <td>1.479774</td>\n",
       "      <td>-0.324683</td>\n",
       "      <td>-0.427795</td>\n",
       "      <td>-0.038679</td>\n",
       "      <td>-1.501166e+00</td>\n",
       "      <td>-0.521046</td>\n",
       "      <td>0.0</td>\n",
       "    </tr>\n",
       "    <tr>\n",
       "      <th>45308</th>\n",
       "      <td>1.224537</td>\n",
       "      <td>1.499384</td>\n",
       "      <td>1.551961</td>\n",
       "      <td>-0.356966</td>\n",
       "      <td>-0.517060</td>\n",
       "      <td>-0.047394</td>\n",
       "      <td>-1.447655e+00</td>\n",
       "      <td>-0.901380</td>\n",
       "      <td>0.0</td>\n",
       "    </tr>\n",
       "    <tr>\n",
       "      <th>45309</th>\n",
       "      <td>1.224537</td>\n",
       "      <td>1.499384</td>\n",
       "      <td>1.624145</td>\n",
       "      <td>0.219617</td>\n",
       "      <td>-0.588109</td>\n",
       "      <td>0.113871</td>\n",
       "      <td>-6.406635e-01</td>\n",
       "      <td>-1.916566</td>\n",
       "      <td>1.0</td>\n",
       "    </tr>\n",
       "    <tr>\n",
       "      <th>45310</th>\n",
       "      <td>1.224537</td>\n",
       "      <td>1.499384</td>\n",
       "      <td>1.696333</td>\n",
       "      <td>-0.179775</td>\n",
       "      <td>-0.836776</td>\n",
       "      <td>0.007340</td>\n",
       "      <td>-5.593261e-01</td>\n",
       "      <td>-1.756427</td>\n",
       "      <td>0.0</td>\n",
       "    </tr>\n",
       "  </tbody>\n",
       "</table>\n",
       "<p>45311 rows × 9 columns</p>\n",
       "</div>"
      ],
      "text/plain": [
       "              0         1         2         3         4         5  \\\n",
       "0     -1.466621 -1.002276 -1.624220 -0.154269 -0.063449 -0.000003   \n",
       "1     -1.466621 -1.002276 -1.552036 -0.159520 -0.247446 -0.000003   \n",
       "2     -1.466621 -1.002276 -1.479849 -0.309655 -0.678280 -0.000003   \n",
       "3     -1.466621 -1.002276 -1.407665 -0.384747 -1.067222 -0.000003   \n",
       "4     -1.466621 -1.002276 -1.335478 -0.417780 -1.334105 -0.000003   \n",
       "...         ...       ...       ...       ...       ...       ...   \n",
       "45306  1.224537  1.499384  1.407590 -0.341187 -0.518884 -0.042498   \n",
       "45307  1.224537  1.499384  1.479774 -0.324683 -0.427795 -0.038679   \n",
       "45308  1.224537  1.499384  1.551961 -0.356966 -0.517060 -0.047394   \n",
       "45309  1.224537  1.499384  1.624145  0.219617 -0.588109  0.113871   \n",
       "45310  1.224537  1.499384  1.696333 -0.179775 -0.836776  0.007340   \n",
       "\n",
       "                  6         7    8  \n",
       "0     -6.259737e-07 -0.558223  1.0  \n",
       "1     -6.259737e-07 -0.558223  1.0  \n",
       "2     -6.259737e-07 -0.558223  1.0  \n",
       "3     -6.259737e-07 -0.558223  0.0  \n",
       "4     -6.259737e-07 -0.558223  0.0  \n",
       "...             ...       ...  ...  \n",
       "45306 -1.387720e+00 -0.621135  0.0  \n",
       "45307 -1.501166e+00 -0.521046  0.0  \n",
       "45308 -1.447655e+00 -0.901380  0.0  \n",
       "45309 -6.406635e-01 -1.916566  1.0  \n",
       "45310 -5.593261e-01 -1.756427  0.0  \n",
       "\n",
       "[45311 rows x 9 columns]"
      ]
     },
     "metadata": {},
     "output_type": "display_data"
    }
   ],
   "source": [
    "data_semi = pd.read_csv(\"electrical.csv\")\n",
    "display(data_semi)\n",
    "data_semi15 = np.array(data_semi)\n",
    "classes15 = [0,1]\n",
    "\n"
   ]
  },
  {
   "cell_type": "code",
   "execution_count": 17,
   "metadata": {},
   "outputs": [],
   "source": [
    "data_semi16 = np.array(pd.read_csv(\"Sensorless_drive_diagnosis.txt\",sep='\\s+'))\n",
    "data_semi16[:,:-1] = preprocessing.scale(data_semi16[:,:-1])\n",
    "data_semi16[np.where(data_semi16[:,-1]==11),-1]=0\n",
    "classes16 = np.unique(data_semi16[:,-1])\n",
    "# data2 = np.array(pd.read_csv(\"HAR_X_test.txt\",sep='\\s+'))\n",
    "# data_x = np.vstack((data1,data2))\n",
    "np.random.seed(0)\n",
    "np.random.shuffle(data_semi16)"
   ]
  },
  {
   "cell_type": "code",
   "execution_count": 18,
   "metadata": {},
   "outputs": [
    {
     "name": "stdout",
     "output_type": "stream",
     "text": [
      "[[2.37000000e+01 2.62720000e+01 5.85200000e+02 7.49200000e+02\n",
      "  4.76416302e-03 1.00000000e+00]\n",
      " [2.37180000e+01 2.62900000e+01 5.78400000e+02 7.60400000e+02\n",
      "  4.77266099e-03 1.00000000e+00]\n",
      " [2.37300000e+01 2.62300000e+01 5.72666667e+02 7.69666667e+02\n",
      "  4.76515255e-03 1.00000000e+00]\n",
      " ...\n",
      " [2.08900000e+01 2.77450000e+01 4.23500000e+02 1.52150000e+03\n",
      "  4.23681810e-03 1.00000000e+00]\n",
      " [2.08900000e+01 2.80225000e+01 4.18750000e+02 1.63200000e+03\n",
      "  4.27948547e-03 1.00000000e+00]\n",
      " [2.10000000e+01 2.81000000e+01 4.09000000e+02 1.86400000e+03\n",
      "  4.32073200e-03 1.00000000e+00]]\n"
     ]
    }
   ],
   "source": [
    "data1 = np.array(pd.read_csv(\"room1.txt\"))\n",
    "data2 = np.array(pd.read_csv(\"room2.txt\"))\n",
    "data3 = np.array(pd.read_csv(\"room3.txt\"))\n",
    "data_semi = np.vstack((data1,data2))\n",
    "data_semi18 = np.vstack((data_semi,data3))\n",
    "data_semi18 = data_semi18[:,1:]\n",
    "data_semi18=data_semi18.astype(float)\n",
    "print(data_semi18)\n",
    "data_semi18[:,:-1] = preprocessing.scale(data_semi18[:,:-1])\n",
    "np.random.seed(0)\n",
    "np.random.shuffle(data_semi18)\n",
    "classes18 = [0,1]"
   ]
  },
  {
   "cell_type": "code",
   "execution_count": 29,
   "metadata": {},
   "outputs": [
    {
     "name": "stdout",
     "output_type": "stream",
     "text": [
      "(10297, 1)\n"
     ]
    }
   ],
   "source": [
    "data1= np.array(pd.read_csv(\"HAR_X.txt\",sep='\\s+'))\n",
    "data2 = np.array(pd.read_csv(\"HAR_X_test.txt\",sep='\\s+'))\n",
    "data_x = np.vstack((data1,data2))\n",
    "\n",
    "data1 = np.array(pd.read_csv(\"HAR_y.txt\"))\n",
    "data2 = np.array(pd.read_csv(\"HAR_Y_test.txt\"))\n",
    "data_y = np.vstack((data1,data2))\n",
    "print(data_y.shape)\n",
    "data_semi7 = np.hstack((data_x,data_y))\n",
    "# data_semi7 = np.array(data)\n",
    "# data_semi7[np.where(data_semi7[:,-1]==6),-1] = 0\n",
    "data_semi7[:,:-1] = preprocessing.scale(data_semi7[:,:-1])\n",
    "data_semi7[np.where(data_semi7[:,-1]==6),-1]=0\n",
    "classes7 = [0,1,2,3,4,5]"
   ]
  },
  {
   "cell_type": "code",
   "execution_count": 19,
   "metadata": {},
   "outputs": [
    {
     "name": "stdout",
     "output_type": "stream",
     "text": [
      "Missing_rate: 0.7\n",
      "eps is 0.2449714539190273\n",
      "1011 out of 50000\r"
     ]
    },
    {
     "name": "stderr",
     "output_type": "stream",
     "text": [
      "/Users/parlos/opt/anaconda3/lib/python3.7/site-packages/skmultiflow/metrics/measure_collection.py:43: FutureWarning: 'ClassificationMeasurements' will be removed in v0.7. Use 'ClassificationPerformanceEvaluator' instead.\n",
      "  format(type(self).__name__), category=FutureWarning)\n"
     ]
    },
    {
     "name": "stdout",
     "output_type": "stream",
     "text": [
      "Missing_rate: 0.90\n",
      "eps is 0.2449714539190273\n",
      "1001 out of 50000\r"
     ]
    },
    {
     "name": "stderr",
     "output_type": "stream",
     "text": [
      "/Users/parlos/opt/anaconda3/lib/python3.7/site-packages/skmultiflow/metrics/measure_collection.py:43: FutureWarning: 'ClassificationMeasurements' will be removed in v0.7. Use 'ClassificationPerformanceEvaluator' instead.\n",
      "  format(type(self).__name__), category=FutureWarning)\n"
     ]
    },
    {
     "name": "stdout",
     "output_type": "stream",
     "text": [
      "Missing_rate: 0.97\n",
      "eps is 0.2449714539190273\n",
      "1029 out of 50000\r"
     ]
    },
    {
     "name": "stderr",
     "output_type": "stream",
     "text": [
      "/Users/parlos/opt/anaconda3/lib/python3.7/site-packages/skmultiflow/metrics/measure_collection.py:43: FutureWarning: 'ClassificationMeasurements' will be removed in v0.7. Use 'ClassificationPerformanceEvaluator' instead.\n",
      "  format(type(self).__name__), category=FutureWarning)\n"
     ]
    },
    {
     "name": "stdout",
     "output_type": "stream",
     "text": [
      "Missing_rate: 0.99\n",
      "eps is 0.2449714539190273\n",
      "1025 out of 50000\r"
     ]
    },
    {
     "name": "stderr",
     "output_type": "stream",
     "text": [
      "/Users/parlos/opt/anaconda3/lib/python3.7/site-packages/skmultiflow/metrics/measure_collection.py:43: FutureWarning: 'ClassificationMeasurements' will be removed in v0.7. Use 'ClassificationPerformanceEvaluator' instead.\n",
      "  format(type(self).__name__), category=FutureWarning)\n"
     ]
    },
    {
     "name": "stdout",
     "output_type": "stream",
     "text": [
      "49999 out of 50000\r"
     ]
    }
   ],
   "source": [
    "all_x,all_y = get_data_experiment_NN([data_semi1],[classes1],[0.7,0.9,0.97,0.99])"
   ]
  },
  {
   "cell_type": "code",
   "execution_count": 20,
   "metadata": {},
   "outputs": [],
   "source": [
    "import pandas as pd\n",
    "all_data = np.hstack((np.concatenate(all_x),np.reshape(np.concatenate(all_y),(-1,1))))\n",
    "pd.DataFrame(all_data).to_csv(\"RBF_d_data.csv\",index=False)"
   ]
  },
  {
   "cell_type": "code",
   "execution_count": 21,
   "metadata": {},
   "outputs": [
    {
     "name": "stdout",
     "output_type": "stream",
     "text": [
      "Missing_rate: 0.7\n",
      "eps is 0.08080358978246029\n",
      "1033 out of 50000\r"
     ]
    },
    {
     "name": "stderr",
     "output_type": "stream",
     "text": [
      "/Users/parlos/opt/anaconda3/lib/python3.7/site-packages/skmultiflow/metrics/measure_collection.py:43: FutureWarning: 'ClassificationMeasurements' will be removed in v0.7. Use 'ClassificationPerformanceEvaluator' instead.\n",
      "  format(type(self).__name__), category=FutureWarning)\n"
     ]
    },
    {
     "name": "stdout",
     "output_type": "stream",
     "text": [
      "Missing_rate: 0.90\n",
      "eps is 0.08080358978246029\n",
      "1017 out of 50000\r"
     ]
    },
    {
     "name": "stderr",
     "output_type": "stream",
     "text": [
      "/Users/parlos/opt/anaconda3/lib/python3.7/site-packages/skmultiflow/metrics/measure_collection.py:43: FutureWarning: 'ClassificationMeasurements' will be removed in v0.7. Use 'ClassificationPerformanceEvaluator' instead.\n",
      "  format(type(self).__name__), category=FutureWarning)\n"
     ]
    },
    {
     "name": "stdout",
     "output_type": "stream",
     "text": [
      "Missing_rate: 0.97\n",
      "eps is 0.08080358978246029\n",
      "1023 out of 50000\r"
     ]
    },
    {
     "name": "stderr",
     "output_type": "stream",
     "text": [
      "/Users/parlos/opt/anaconda3/lib/python3.7/site-packages/skmultiflow/metrics/measure_collection.py:43: FutureWarning: 'ClassificationMeasurements' will be removed in v0.7. Use 'ClassificationPerformanceEvaluator' instead.\n",
      "  format(type(self).__name__), category=FutureWarning)\n"
     ]
    },
    {
     "name": "stdout",
     "output_type": "stream",
     "text": [
      "Missing_rate: 0.99\n",
      "eps is 0.08080358978246029\n",
      "1029 out of 50000\r"
     ]
    },
    {
     "name": "stderr",
     "output_type": "stream",
     "text": [
      "/Users/parlos/opt/anaconda3/lib/python3.7/site-packages/skmultiflow/metrics/measure_collection.py:43: FutureWarning: 'ClassificationMeasurements' will be removed in v0.7. Use 'ClassificationPerformanceEvaluator' instead.\n",
      "  format(type(self).__name__), category=FutureWarning)\n"
     ]
    },
    {
     "name": "stdout",
     "output_type": "stream",
     "text": [
      "49999 out of 50000\r"
     ]
    }
   ],
   "source": [
    "all_x,all_y = get_data_experiment_NN([data_semi2],[classes2],[0.7,0.9,0.97,0.99])"
   ]
  },
  {
   "cell_type": "code",
   "execution_count": 22,
   "metadata": {},
   "outputs": [],
   "source": [
    "\n",
    "all_data = np.hstack((np.concatenate(all_x),np.reshape(np.concatenate(all_y),(-1,1))))\n",
    "pd.DataFrame(all_data).to_csv(\"RBF_data.csv\",index=False)"
   ]
  },
  {
   "cell_type": "code",
   "execution_count": 23,
   "metadata": {},
   "outputs": [
    {
     "name": "stdout",
     "output_type": "stream",
     "text": [
      "Missing_rate: 0.7\n",
      "eps is 0.3537433942517063\n",
      "1018 out of 13616\r"
     ]
    },
    {
     "name": "stderr",
     "output_type": "stream",
     "text": [
      "/Users/parlos/opt/anaconda3/lib/python3.7/site-packages/skmultiflow/metrics/measure_collection.py:43: FutureWarning: 'ClassificationMeasurements' will be removed in v0.7. Use 'ClassificationPerformanceEvaluator' instead.\n",
      "  format(type(self).__name__), category=FutureWarning)\n"
     ]
    },
    {
     "name": "stdout",
     "output_type": "stream",
     "text": [
      "Missing_rate: 0.96\n",
      "eps is 0.3537433942517063\n",
      "1011 out of 13616\r"
     ]
    },
    {
     "name": "stderr",
     "output_type": "stream",
     "text": [
      "/Users/parlos/opt/anaconda3/lib/python3.7/site-packages/skmultiflow/metrics/measure_collection.py:43: FutureWarning: 'ClassificationMeasurements' will be removed in v0.7. Use 'ClassificationPerformanceEvaluator' instead.\n",
      "  format(type(self).__name__), category=FutureWarning)\n"
     ]
    },
    {
     "name": "stdout",
     "output_type": "stream",
     "text": [
      "Missing_rate: 0.97\n",
      "eps is 0.3537433942517063\n",
      "1006 out of 13616\r"
     ]
    },
    {
     "name": "stderr",
     "output_type": "stream",
     "text": [
      "/Users/parlos/opt/anaconda3/lib/python3.7/site-packages/skmultiflow/metrics/measure_collection.py:43: FutureWarning: 'ClassificationMeasurements' will be removed in v0.7. Use 'ClassificationPerformanceEvaluator' instead.\n",
      "  format(type(self).__name__), category=FutureWarning)\n"
     ]
    },
    {
     "name": "stdout",
     "output_type": "stream",
     "text": [
      "Missing_rate: 0.99\n",
      "eps is 0.3537433942517063\n",
      "1007 out of 13616\r"
     ]
    },
    {
     "name": "stderr",
     "output_type": "stream",
     "text": [
      "/Users/parlos/opt/anaconda3/lib/python3.7/site-packages/skmultiflow/metrics/measure_collection.py:43: FutureWarning: 'ClassificationMeasurements' will be removed in v0.7. Use 'ClassificationPerformanceEvaluator' instead.\n",
      "  format(type(self).__name__), category=FutureWarning)\n"
     ]
    },
    {
     "name": "stdout",
     "output_type": "stream",
     "text": [
      "13615 out of 13616\r"
     ]
    }
   ],
   "source": [
    "all_x,all_y = get_data_experiment_NN([data_semi4],[classes4],[0.7,0.9,0.97,0.99])"
   ]
  },
  {
   "cell_type": "code",
   "execution_count": 24,
   "metadata": {},
   "outputs": [],
   "source": [
    "\n",
    "all_data = np.hstack((np.concatenate(all_x),np.reshape(np.concatenate(all_y),(-1,1))))\n",
    "pd.DataFrame(all_data).to_csv(\"chemical_data.csv\",index=False)"
   ]
  },
  {
   "cell_type": "code",
   "execution_count": 25,
   "metadata": {},
   "outputs": [
    {
     "name": "stdout",
     "output_type": "stream",
     "text": [
      "Missing_rate: 0.7\n",
      "eps is 2.667916605898935\n",
      "1027 out of 30000\r"
     ]
    },
    {
     "name": "stderr",
     "output_type": "stream",
     "text": [
      "/Users/parlos/opt/anaconda3/lib/python3.7/site-packages/skmultiflow/metrics/measure_collection.py:43: FutureWarning: 'ClassificationMeasurements' will be removed in v0.7. Use 'ClassificationPerformanceEvaluator' instead.\n",
      "  format(type(self).__name__), category=FutureWarning)\n"
     ]
    },
    {
     "name": "stdout",
     "output_type": "stream",
     "text": [
      "Missing_rate: 0.90\n",
      "eps is 2.667916605898935\n",
      "1025 out of 30000\r"
     ]
    },
    {
     "name": "stderr",
     "output_type": "stream",
     "text": [
      "/Users/parlos/opt/anaconda3/lib/python3.7/site-packages/skmultiflow/metrics/measure_collection.py:43: FutureWarning: 'ClassificationMeasurements' will be removed in v0.7. Use 'ClassificationPerformanceEvaluator' instead.\n",
      "  format(type(self).__name__), category=FutureWarning)\n"
     ]
    },
    {
     "name": "stdout",
     "output_type": "stream",
     "text": [
      "Missing_rate: 0.97\n",
      "eps is 2.667916605898935\n",
      "1015 out of 30000\r"
     ]
    },
    {
     "name": "stderr",
     "output_type": "stream",
     "text": [
      "/Users/parlos/opt/anaconda3/lib/python3.7/site-packages/skmultiflow/metrics/measure_collection.py:43: FutureWarning: 'ClassificationMeasurements' will be removed in v0.7. Use 'ClassificationPerformanceEvaluator' instead.\n",
      "  format(type(self).__name__), category=FutureWarning)\n"
     ]
    },
    {
     "name": "stdout",
     "output_type": "stream",
     "text": [
      "Missing_rate: 0.99\n",
      "eps is 2.667916605898935\n",
      "1007 out of 30000\r"
     ]
    },
    {
     "name": "stderr",
     "output_type": "stream",
     "text": [
      "/Users/parlos/opt/anaconda3/lib/python3.7/site-packages/skmultiflow/metrics/measure_collection.py:43: FutureWarning: 'ClassificationMeasurements' will be removed in v0.7. Use 'ClassificationPerformanceEvaluator' instead.\n",
      "  format(type(self).__name__), category=FutureWarning)\n"
     ]
    },
    {
     "name": "stdout",
     "output_type": "stream",
     "text": [
      "29999 out of 30000\r"
     ]
    }
   ],
   "source": [
    "all_x,all_y = get_data_experiment_NN([data_semi5],[classes5],[0.7,0.9,0.97,0.99])"
   ]
  },
  {
   "cell_type": "code",
   "execution_count": 26,
   "metadata": {},
   "outputs": [],
   "source": [
    "all_data = np.hstack((np.concatenate(all_x),np.reshape(np.concatenate(all_y),(-1,1))))\n",
    "pd.DataFrame(all_data).to_csv(\"waveform_data.csv\",index=False)"
   ]
  },
  {
   "cell_type": "code",
   "execution_count": 27,
   "metadata": {},
   "outputs": [
    {
     "name": "stdout",
     "output_type": "stream",
     "text": [
      "Missing_rate: 0.7\n"
     ]
    },
    {
     "name": "stderr",
     "output_type": "stream",
     "text": [
      "/Users/parlos/opt/anaconda3/lib/python3.7/site-packages/skmultiflow/metrics/measure_collection.py:43: FutureWarning: 'ClassificationMeasurements' will be removed in v0.7. Use 'ClassificationPerformanceEvaluator' instead.\n",
      "  format(type(self).__name__), category=FutureWarning)\n"
     ]
    },
    {
     "name": "stdout",
     "output_type": "stream",
     "text": [
      "eps is 2.737915600994856\n",
      "Missing_rate: 0.9\n"
     ]
    },
    {
     "name": "stderr",
     "output_type": "stream",
     "text": [
      "/Users/parlos/opt/anaconda3/lib/python3.7/site-packages/skmultiflow/metrics/measure_collection.py:43: FutureWarning: 'ClassificationMeasurements' will be removed in v0.7. Use 'ClassificationPerformanceEvaluator' instead.\n",
      "  format(type(self).__name__), category=FutureWarning)\n"
     ]
    },
    {
     "name": "stdout",
     "output_type": "stream",
     "text": [
      "eps is 2.737915600994856\n",
      "Missing_rate: 0.97\n"
     ]
    },
    {
     "name": "stderr",
     "output_type": "stream",
     "text": [
      "/Users/parlos/opt/anaconda3/lib/python3.7/site-packages/skmultiflow/metrics/measure_collection.py:43: FutureWarning: 'ClassificationMeasurements' will be removed in v0.7. Use 'ClassificationPerformanceEvaluator' instead.\n",
      "  format(type(self).__name__), category=FutureWarning)\n"
     ]
    },
    {
     "name": "stdout",
     "output_type": "stream",
     "text": [
      "eps is 2.737915600994856\n",
      "Missing_rate: 0.99\n"
     ]
    },
    {
     "name": "stderr",
     "output_type": "stream",
     "text": [
      "/Users/parlos/opt/anaconda3/lib/python3.7/site-packages/skmultiflow/metrics/measure_collection.py:43: FutureWarning: 'ClassificationMeasurements' will be removed in v0.7. Use 'ClassificationPerformanceEvaluator' instead.\n",
      "  format(type(self).__name__), category=FutureWarning)\n"
     ]
    },
    {
     "name": "stdout",
     "output_type": "stream",
     "text": [
      "eps is 2.737915600994856\n",
      "7351 out of 7352\r"
     ]
    }
   ],
   "source": [
    "all_x,all_y = get_data_experiment_NN([data_semi7],[classes7],[0.7,0.9,0.97,0.99])"
   ]
  },
  {
   "cell_type": "code",
   "execution_count": 28,
   "metadata": {},
   "outputs": [],
   "source": [
    "all_data = np.hstack((np.concatenate(all_x),np.reshape(np.concatenate(all_y),(-1,1))))\n",
    "pd.DataFrame(all_data).to_csv(\"HAR_data.csv\",index=False)"
   ]
  },
  {
   "cell_type": "code",
   "execution_count": 29,
   "metadata": {},
   "outputs": [
    {
     "name": "stdout",
     "output_type": "stream",
     "text": [
      "Missing_rate: 0.7\n",
      "eps is 0.0\n",
      "1034 out of 12959\r"
     ]
    },
    {
     "name": "stderr",
     "output_type": "stream",
     "text": [
      "/Users/parlos/opt/anaconda3/lib/python3.7/site-packages/skmultiflow/metrics/measure_collection.py:43: FutureWarning: 'ClassificationMeasurements' will be removed in v0.7. Use 'ClassificationPerformanceEvaluator' instead.\n",
      "  format(type(self).__name__), category=FutureWarning)\n"
     ]
    },
    {
     "name": "stdout",
     "output_type": "stream",
     "text": [
      "Missing_rate: 0.99\n",
      "eps is 0.0\n",
      "1006 out of 12959\r"
     ]
    },
    {
     "name": "stderr",
     "output_type": "stream",
     "text": [
      "/Users/parlos/opt/anaconda3/lib/python3.7/site-packages/skmultiflow/metrics/measure_collection.py:43: FutureWarning: 'ClassificationMeasurements' will be removed in v0.7. Use 'ClassificationPerformanceEvaluator' instead.\n",
      "  format(type(self).__name__), category=FutureWarning)\n"
     ]
    },
    {
     "name": "stdout",
     "output_type": "stream",
     "text": [
      "Missing_rate: 0.97\n",
      "eps is 0.0\n",
      "1008 out of 12959\r"
     ]
    },
    {
     "name": "stderr",
     "output_type": "stream",
     "text": [
      "/Users/parlos/opt/anaconda3/lib/python3.7/site-packages/skmultiflow/metrics/measure_collection.py:43: FutureWarning: 'ClassificationMeasurements' will be removed in v0.7. Use 'ClassificationPerformanceEvaluator' instead.\n",
      "  format(type(self).__name__), category=FutureWarning)\n"
     ]
    },
    {
     "name": "stdout",
     "output_type": "stream",
     "text": [
      "Missing_rate: 0.99\n",
      "eps is 0.0\n",
      "1003 out of 12959\r"
     ]
    },
    {
     "name": "stderr",
     "output_type": "stream",
     "text": [
      "/Users/parlos/opt/anaconda3/lib/python3.7/site-packages/skmultiflow/metrics/measure_collection.py:43: FutureWarning: 'ClassificationMeasurements' will be removed in v0.7. Use 'ClassificationPerformanceEvaluator' instead.\n",
      "  format(type(self).__name__), category=FutureWarning)\n"
     ]
    },
    {
     "name": "stdout",
     "output_type": "stream",
     "text": [
      "12958 out of 12959\r"
     ]
    }
   ],
   "source": [
    "all_x,all_y = get_data_experiment_NN([data_semi8],[classes8],[0.7,0.9,0.97,0.99])"
   ]
  },
  {
   "cell_type": "code",
   "execution_count": 30,
   "metadata": {},
   "outputs": [],
   "source": [
    "all_data = np.hstack((np.concatenate(all_x),np.reshape(np.concatenate(all_y),(-1,1))))\n",
    "pd.DataFrame(all_data).to_csv(\"nursery_data.csv\",index=False)"
   ]
  },
  {
   "cell_type": "code",
   "execution_count": 31,
   "metadata": {},
   "outputs": [
    {
     "name": "stdout",
     "output_type": "stream",
     "text": [
      "Missing_rate: 0.7\n",
      "eps is 0.00039047571451947266\n",
      "1040 out of 58000\r"
     ]
    },
    {
     "name": "stderr",
     "output_type": "stream",
     "text": [
      "/Users/parlos/opt/anaconda3/lib/python3.7/site-packages/skmultiflow/metrics/measure_collection.py:43: FutureWarning: 'ClassificationMeasurements' will be removed in v0.7. Use 'ClassificationPerformanceEvaluator' instead.\n",
      "  format(type(self).__name__), category=FutureWarning)\n"
     ]
    },
    {
     "name": "stdout",
     "output_type": "stream",
     "text": [
      "Missing_rate: 0.90\n",
      "eps is 0.00039047571451947266\n",
      "1032 out of 58000\r"
     ]
    },
    {
     "name": "stderr",
     "output_type": "stream",
     "text": [
      "/Users/parlos/opt/anaconda3/lib/python3.7/site-packages/skmultiflow/metrics/measure_collection.py:43: FutureWarning: 'ClassificationMeasurements' will be removed in v0.7. Use 'ClassificationPerformanceEvaluator' instead.\n",
      "  format(type(self).__name__), category=FutureWarning)\n"
     ]
    },
    {
     "name": "stdout",
     "output_type": "stream",
     "text": [
      "Missing_rate: 0.97\n",
      "eps is 0.00039047571451947266\n",
      "1027 out of 58000\r"
     ]
    },
    {
     "name": "stderr",
     "output_type": "stream",
     "text": [
      "/Users/parlos/opt/anaconda3/lib/python3.7/site-packages/skmultiflow/metrics/measure_collection.py:43: FutureWarning: 'ClassificationMeasurements' will be removed in v0.7. Use 'ClassificationPerformanceEvaluator' instead.\n",
      "  format(type(self).__name__), category=FutureWarning)\n"
     ]
    },
    {
     "name": "stdout",
     "output_type": "stream",
     "text": [
      "Missing_rate: 0.99\n",
      "eps is 0.00039047571451947266\n",
      "1031 out of 58000\r"
     ]
    },
    {
     "name": "stderr",
     "output_type": "stream",
     "text": [
      "/Users/parlos/opt/anaconda3/lib/python3.7/site-packages/skmultiflow/metrics/measure_collection.py:43: FutureWarning: 'ClassificationMeasurements' will be removed in v0.7. Use 'ClassificationPerformanceEvaluator' instead.\n",
      "  format(type(self).__name__), category=FutureWarning)\n"
     ]
    },
    {
     "name": "stdout",
     "output_type": "stream",
     "text": [
      "57999 out of 58000\r"
     ]
    }
   ],
   "source": [
    "all_x,all_y = get_data_experiment_NN([data_semi9],[classes9],[0.7,0.9,0.97,0.99])"
   ]
  },
  {
   "cell_type": "code",
   "execution_count": 32,
   "metadata": {},
   "outputs": [],
   "source": [
    "all_data = np.hstack((np.concatenate(all_x),np.reshape(np.concatenate(all_y),(-1,1))))\n",
    "pd.DataFrame(all_data).to_csv(\"shuttle_data.csv\",index=False)"
   ]
  },
  {
   "cell_type": "code",
   "execution_count": 33,
   "metadata": {},
   "outputs": [
    {
     "name": "stdout",
     "output_type": "stream",
     "text": [
      "Missing_rate: 0.7\n",
      "eps is 0.06406821463847688\n",
      "1043 out of 18159\r"
     ]
    },
    {
     "name": "stderr",
     "output_type": "stream",
     "text": [
      "/Users/parlos/opt/anaconda3/lib/python3.7/site-packages/skmultiflow/metrics/measure_collection.py:43: FutureWarning: 'ClassificationMeasurements' will be removed in v0.7. Use 'ClassificationPerformanceEvaluator' instead.\n",
      "  format(type(self).__name__), category=FutureWarning)\n"
     ]
    },
    {
     "name": "stdout",
     "output_type": "stream",
     "text": [
      "Missing_rate: 0.99\n",
      "eps is 0.06406821463847688\n",
      "1025 out of 18159\r"
     ]
    },
    {
     "name": "stderr",
     "output_type": "stream",
     "text": [
      "/Users/parlos/opt/anaconda3/lib/python3.7/site-packages/skmultiflow/metrics/measure_collection.py:43: FutureWarning: 'ClassificationMeasurements' will be removed in v0.7. Use 'ClassificationPerformanceEvaluator' instead.\n",
      "  format(type(self).__name__), category=FutureWarning)\n"
     ]
    },
    {
     "name": "stdout",
     "output_type": "stream",
     "text": [
      "Missing_rate: 0.97\n",
      "eps is 0.06406821463847688\n",
      "1013 out of 18159\r"
     ]
    },
    {
     "name": "stderr",
     "output_type": "stream",
     "text": [
      "/Users/parlos/opt/anaconda3/lib/python3.7/site-packages/skmultiflow/metrics/measure_collection.py:43: FutureWarning: 'ClassificationMeasurements' will be removed in v0.7. Use 'ClassificationPerformanceEvaluator' instead.\n",
      "  format(type(self).__name__), category=FutureWarning)\n"
     ]
    },
    {
     "name": "stdout",
     "output_type": "stream",
     "text": [
      "Missing_rate: 0.99\n",
      "eps is 0.06406821463847688\n",
      "1031 out of 18159\r"
     ]
    },
    {
     "name": "stderr",
     "output_type": "stream",
     "text": [
      "/Users/parlos/opt/anaconda3/lib/python3.7/site-packages/skmultiflow/metrics/measure_collection.py:43: FutureWarning: 'ClassificationMeasurements' will be removed in v0.7. Use 'ClassificationPerformanceEvaluator' instead.\n",
      "  format(type(self).__name__), category=FutureWarning)\n"
     ]
    },
    {
     "name": "stdout",
     "output_type": "stream",
     "text": [
      "18158 out of 18159\r"
     ]
    }
   ],
   "source": [
    "all_x,all_y = get_data_experiment_NN([data_semi10],[classes10],[0.7,0.9,0.97,0.99])"
   ]
  },
  {
   "cell_type": "code",
   "execution_count": 34,
   "metadata": {},
   "outputs": [],
   "source": [
    "all_data = np.hstack((np.concatenate(all_x),np.reshape(np.concatenate(all_y),(-1,1))))\n",
    "pd.DataFrame(all_data).to_csv(\"weather_data.csv\",index=False)"
   ]
  },
  {
   "cell_type": "code",
   "execution_count": 35,
   "metadata": {},
   "outputs": [
    {
     "name": "stdout",
     "output_type": "stream",
     "text": [
      "Missing_rate: 0.7\n",
      "eps is 1.6724851295640484\n",
      "1018 out of 59425\r"
     ]
    },
    {
     "name": "stderr",
     "output_type": "stream",
     "text": [
      "/Users/parlos/opt/anaconda3/lib/python3.7/site-packages/skmultiflow/metrics/measure_collection.py:43: FutureWarning: 'ClassificationMeasurements' will be removed in v0.7. Use 'ClassificationPerformanceEvaluator' instead.\n",
      "  format(type(self).__name__), category=FutureWarning)\n"
     ]
    },
    {
     "name": "stdout",
     "output_type": "stream",
     "text": [
      "Missing_rate: 0.95\n",
      "eps is 1.6724851295640484\n",
      "1013 out of 59425\r"
     ]
    },
    {
     "name": "stderr",
     "output_type": "stream",
     "text": [
      "/Users/parlos/opt/anaconda3/lib/python3.7/site-packages/skmultiflow/metrics/measure_collection.py:43: FutureWarning: 'ClassificationMeasurements' will be removed in v0.7. Use 'ClassificationPerformanceEvaluator' instead.\n",
      "  format(type(self).__name__), category=FutureWarning)\n"
     ]
    },
    {
     "name": "stdout",
     "output_type": "stream",
     "text": [
      "Missing_rate: 0.97\n",
      "eps is 1.6724851295640484\n",
      "1014 out of 59425\r"
     ]
    },
    {
     "name": "stderr",
     "output_type": "stream",
     "text": [
      "/Users/parlos/opt/anaconda3/lib/python3.7/site-packages/skmultiflow/metrics/measure_collection.py:43: FutureWarning: 'ClassificationMeasurements' will be removed in v0.7. Use 'ClassificationPerformanceEvaluator' instead.\n",
      "  format(type(self).__name__), category=FutureWarning)\n"
     ]
    },
    {
     "name": "stdout",
     "output_type": "stream",
     "text": [
      "Missing_rate: 0.99\n",
      "eps is 1.6724851295640484\n",
      "1013 out of 59425\r"
     ]
    },
    {
     "name": "stderr",
     "output_type": "stream",
     "text": [
      "/Users/parlos/opt/anaconda3/lib/python3.7/site-packages/skmultiflow/metrics/measure_collection.py:43: FutureWarning: 'ClassificationMeasurements' will be removed in v0.7. Use 'ClassificationPerformanceEvaluator' instead.\n",
      "  format(type(self).__name__), category=FutureWarning)\n"
     ]
    },
    {
     "name": "stdout",
     "output_type": "stream",
     "text": [
      "59424 out of 59425\r"
     ]
    }
   ],
   "source": [
    "all_x,all_y = get_data_experiment_NN([data_semi11],[classes11],[0.7,0.9,0.97,0.99])"
   ]
  },
  {
   "cell_type": "code",
   "execution_count": 36,
   "metadata": {},
   "outputs": [],
   "source": [
    "all_data = np.hstack((np.concatenate(all_x),np.reshape(np.concatenate(all_y),(-1,1))))\n",
    "pd.DataFrame(all_data).to_csv(\"PAMAP_data.csv\",index=False)"
   ]
  },
  {
   "cell_type": "code",
   "execution_count": null,
   "metadata": {},
   "outputs": [],
   "source": []
  },
  {
   "cell_type": "code",
   "execution_count": 37,
   "metadata": {},
   "outputs": [
    {
     "name": "stdout",
     "output_type": "stream",
     "text": [
      "Missing_rate: 0.7\n",
      "eps is 0.09752940794643154\n",
      "1047 out of 45311\r"
     ]
    },
    {
     "name": "stderr",
     "output_type": "stream",
     "text": [
      "/Users/parlos/opt/anaconda3/lib/python3.7/site-packages/skmultiflow/metrics/measure_collection.py:43: FutureWarning: 'ClassificationMeasurements' will be removed in v0.7. Use 'ClassificationPerformanceEvaluator' instead.\n",
      "  format(type(self).__name__), category=FutureWarning)\n"
     ]
    },
    {
     "name": "stdout",
     "output_type": "stream",
     "text": [
      "Missing_rate: 0.91\n",
      "eps is 0.09752940794643154\n",
      "1018 out of 45311\r"
     ]
    },
    {
     "name": "stderr",
     "output_type": "stream",
     "text": [
      "/Users/parlos/opt/anaconda3/lib/python3.7/site-packages/skmultiflow/metrics/measure_collection.py:43: FutureWarning: 'ClassificationMeasurements' will be removed in v0.7. Use 'ClassificationPerformanceEvaluator' instead.\n",
      "  format(type(self).__name__), category=FutureWarning)\n"
     ]
    },
    {
     "name": "stdout",
     "output_type": "stream",
     "text": [
      "Missing_rate: 0.97\n",
      "eps is 0.09752940794643154\n"
     ]
    },
    {
     "name": "stderr",
     "output_type": "stream",
     "text": [
      "/Users/parlos/opt/anaconda3/lib/python3.7/site-packages/skmultiflow/metrics/measure_collection.py:43: FutureWarning: 'ClassificationMeasurements' will be removed in v0.7. Use 'ClassificationPerformanceEvaluator' instead.\n",
      "  format(type(self).__name__), category=FutureWarning)\n"
     ]
    },
    {
     "name": "stdout",
     "output_type": "stream",
     "text": [
      "Missing_rate: 0.99\n",
      "eps is 0.09752940794643154\n",
      "1029 out of 45311\r"
     ]
    },
    {
     "name": "stderr",
     "output_type": "stream",
     "text": [
      "/Users/parlos/opt/anaconda3/lib/python3.7/site-packages/skmultiflow/metrics/measure_collection.py:43: FutureWarning: 'ClassificationMeasurements' will be removed in v0.7. Use 'ClassificationPerformanceEvaluator' instead.\n",
      "  format(type(self).__name__), category=FutureWarning)\n"
     ]
    },
    {
     "name": "stdout",
     "output_type": "stream",
     "text": [
      "45310 out of 45311\r"
     ]
    }
   ],
   "source": [
    "all_x,all_y = get_data_experiment_NN([data_semi15],[classes15],[0.7,0.9,0.97,0.99])"
   ]
  },
  {
   "cell_type": "code",
   "execution_count": 38,
   "metadata": {},
   "outputs": [],
   "source": [
    "all_data = np.hstack((np.concatenate(all_x),np.reshape(np.concatenate(all_y),(-1,1))))\n",
    "pd.DataFrame(all_data).to_csv(\"electrical_data.csv\",index=False)"
   ]
  },
  {
   "cell_type": "code",
   "execution_count": 39,
   "metadata": {},
   "outputs": [
    {
     "name": "stdout",
     "output_type": "stream",
     "text": [
      "Missing_rate: 0.7\n",
      "eps is 0.019296089528720514\n",
      "1038 out of 20560\r"
     ]
    },
    {
     "name": "stderr",
     "output_type": "stream",
     "text": [
      "/Users/parlos/opt/anaconda3/lib/python3.7/site-packages/skmultiflow/metrics/measure_collection.py:43: FutureWarning: 'ClassificationMeasurements' will be removed in v0.7. Use 'ClassificationPerformanceEvaluator' instead.\n",
      "  format(type(self).__name__), category=FutureWarning)\n"
     ]
    },
    {
     "name": "stdout",
     "output_type": "stream",
     "text": [
      "Missing_rate: 0.90\n",
      "eps is 0.019296089528720514\n",
      "1004 out of 20560\r"
     ]
    },
    {
     "name": "stderr",
     "output_type": "stream",
     "text": [
      "/Users/parlos/opt/anaconda3/lib/python3.7/site-packages/skmultiflow/metrics/measure_collection.py:43: FutureWarning: 'ClassificationMeasurements' will be removed in v0.7. Use 'ClassificationPerformanceEvaluator' instead.\n",
      "  format(type(self).__name__), category=FutureWarning)\n"
     ]
    },
    {
     "name": "stdout",
     "output_type": "stream",
     "text": [
      "Missing_rate: 0.97\n",
      "eps is 0.019296089528720514\n",
      "1004 out of 20560\r"
     ]
    },
    {
     "name": "stderr",
     "output_type": "stream",
     "text": [
      "/Users/parlos/opt/anaconda3/lib/python3.7/site-packages/skmultiflow/metrics/measure_collection.py:43: FutureWarning: 'ClassificationMeasurements' will be removed in v0.7. Use 'ClassificationPerformanceEvaluator' instead.\n",
      "  format(type(self).__name__), category=FutureWarning)\n"
     ]
    },
    {
     "name": "stdout",
     "output_type": "stream",
     "text": [
      "Missing_rate: 0.99\n",
      "eps is 0.019296089528720514\n",
      "1016 out of 20560\r"
     ]
    },
    {
     "name": "stderr",
     "output_type": "stream",
     "text": [
      "/Users/parlos/opt/anaconda3/lib/python3.7/site-packages/skmultiflow/metrics/measure_collection.py:43: FutureWarning: 'ClassificationMeasurements' will be removed in v0.7. Use 'ClassificationPerformanceEvaluator' instead.\n",
      "  format(type(self).__name__), category=FutureWarning)\n"
     ]
    },
    {
     "name": "stdout",
     "output_type": "stream",
     "text": [
      "20559 out of 20560\r"
     ]
    }
   ],
   "source": [
    "all_x,all_y = get_data_experiment_NN([data_semi18],[classes18],[0.7,0.9,0.97,0.99])"
   ]
  },
  {
   "cell_type": "code",
   "execution_count": 40,
   "metadata": {},
   "outputs": [],
   "source": [
    "all_data = np.hstack((np.concatenate(all_x),np.reshape(np.concatenate(all_y),(-1,1))))\n",
    "pd.DataFrame(all_data).to_csv(\"room_data.csv\",index=False)"
   ]
  },
  {
   "cell_type": "code",
   "execution_count": 22,
   "metadata": {
    "colab": {
     "base_uri": "https://localhost:8080/"
    },
    "id": "SNEauXmtlPgU",
    "outputId": "d469fa7a-b7f4-40e9-e0fc-387c5d090be2",
    "pycharm": {
     "name": "#%%\n"
    }
   },
   "outputs": [
    {
     "name": "stdout",
     "output_type": "stream",
     "text": [
      "Missing_rate: 0.5\n",
      "eps is 0.2449714539190273\n",
      "1039 out of 50000\r"
     ]
    },
    {
     "name": "stderr",
     "output_type": "stream",
     "text": [
      "/Users/parlos/opt/anaconda3/lib/python3.7/site-packages/skmultiflow/metrics/measure_collection.py:43: FutureWarning: 'ClassificationMeasurements' will be removed in v0.7. Use 'ClassificationPerformanceEvaluator' instead.\n",
      "  format(type(self).__name__), category=FutureWarning)\n"
     ]
    },
    {
     "name": "stdout",
     "output_type": "stream",
     "text": [
      "Missing_rate: 0.80\n",
      "eps is 0.2449714539190273\n",
      "1005 out of 50000\r"
     ]
    },
    {
     "name": "stderr",
     "output_type": "stream",
     "text": [
      "/Users/parlos/opt/anaconda3/lib/python3.7/site-packages/skmultiflow/metrics/measure_collection.py:43: FutureWarning: 'ClassificationMeasurements' will be removed in v0.7. Use 'ClassificationPerformanceEvaluator' instead.\n",
      "  format(type(self).__name__), category=FutureWarning)\n"
     ]
    },
    {
     "name": "stdout",
     "output_type": "stream",
     "text": [
      "Missing_rate: 0.95\n",
      "eps is 0.2449714539190273\n",
      "1022 out of 50000\r"
     ]
    },
    {
     "name": "stderr",
     "output_type": "stream",
     "text": [
      "/Users/parlos/opt/anaconda3/lib/python3.7/site-packages/skmultiflow/metrics/measure_collection.py:43: FutureWarning: 'ClassificationMeasurements' will be removed in v0.7. Use 'ClassificationPerformanceEvaluator' instead.\n",
      "  format(type(self).__name__), category=FutureWarning)\n"
     ]
    },
    {
     "name": "stdout",
     "output_type": "stream",
     "text": [
      "Missing_rate: 0.98\n",
      "eps is 0.2449714539190273\n"
     ]
    },
    {
     "name": "stderr",
     "output_type": "stream",
     "text": [
      "/Users/parlos/opt/anaconda3/lib/python3.7/site-packages/skmultiflow/metrics/measure_collection.py:43: FutureWarning: 'ClassificationMeasurements' will be removed in v0.7. Use 'ClassificationPerformanceEvaluator' instead.\n",
      "  format(type(self).__name__), category=FutureWarning)\n"
     ]
    },
    {
     "name": "stdout",
     "output_type": "stream",
     "text": [
      "Missing_rate: 0.50\n"
     ]
    },
    {
     "name": "stderr",
     "output_type": "stream",
     "text": [
      "/Users/parlos/opt/anaconda3/lib/python3.7/site-packages/skmultiflow/metrics/measure_collection.py:43: FutureWarning: 'ClassificationMeasurements' will be removed in v0.7. Use 'ClassificationPerformanceEvaluator' instead.\n",
      "  format(type(self).__name__), category=FutureWarning)\n"
     ]
    },
    {
     "name": "stdout",
     "output_type": "stream",
     "text": [
      "eps is 0.08080358978246029\n",
      "Missing_rate: 0.80\n",
      "eps is 0.08080358978246029\n",
      "1037 out of 50000\r"
     ]
    },
    {
     "name": "stderr",
     "output_type": "stream",
     "text": [
      "/Users/parlos/opt/anaconda3/lib/python3.7/site-packages/skmultiflow/metrics/measure_collection.py:43: FutureWarning: 'ClassificationMeasurements' will be removed in v0.7. Use 'ClassificationPerformanceEvaluator' instead.\n",
      "  format(type(self).__name__), category=FutureWarning)\n"
     ]
    },
    {
     "name": "stdout",
     "output_type": "stream",
     "text": [
      "Missing_rate: 0.95\n",
      "eps is 0.08080358978246029\n",
      "1005 out of 50000\r"
     ]
    },
    {
     "name": "stderr",
     "output_type": "stream",
     "text": [
      "/Users/parlos/opt/anaconda3/lib/python3.7/site-packages/skmultiflow/metrics/measure_collection.py:43: FutureWarning: 'ClassificationMeasurements' will be removed in v0.7. Use 'ClassificationPerformanceEvaluator' instead.\n",
      "  format(type(self).__name__), category=FutureWarning)\n"
     ]
    },
    {
     "name": "stdout",
     "output_type": "stream",
     "text": [
      "Missing_rate: 0.98\n",
      "eps is 0.08080358978246029\n",
      "1040 out of 50000\r"
     ]
    },
    {
     "name": "stderr",
     "output_type": "stream",
     "text": [
      "/Users/parlos/opt/anaconda3/lib/python3.7/site-packages/skmultiflow/metrics/measure_collection.py:43: FutureWarning: 'ClassificationMeasurements' will be removed in v0.7. Use 'ClassificationPerformanceEvaluator' instead.\n",
      "  format(type(self).__name__), category=FutureWarning)\n"
     ]
    },
    {
     "name": "stdout",
     "output_type": "stream",
     "text": [
      "Missing_rate: 0.50\n",
      "eps is 0.3537433942517063\n",
      "1009 out of 13616\r"
     ]
    },
    {
     "name": "stderr",
     "output_type": "stream",
     "text": [
      "/Users/parlos/opt/anaconda3/lib/python3.7/site-packages/skmultiflow/metrics/measure_collection.py:43: FutureWarning: 'ClassificationMeasurements' will be removed in v0.7. Use 'ClassificationPerformanceEvaluator' instead.\n",
      "  format(type(self).__name__), category=FutureWarning)\n"
     ]
    },
    {
     "name": "stdout",
     "output_type": "stream",
     "text": [
      "Missing_rate: 0.86\n",
      "eps is 0.3537433942517063\n",
      "1001 out of 13616\r"
     ]
    },
    {
     "name": "stderr",
     "output_type": "stream",
     "text": [
      "/Users/parlos/opt/anaconda3/lib/python3.7/site-packages/skmultiflow/metrics/measure_collection.py:43: FutureWarning: 'ClassificationMeasurements' will be removed in v0.7. Use 'ClassificationPerformanceEvaluator' instead.\n",
      "  format(type(self).__name__), category=FutureWarning)\n"
     ]
    },
    {
     "name": "stdout",
     "output_type": "stream",
     "text": [
      "Missing_rate: 0.95\n",
      "eps is 0.3537433942517063\n",
      "1011 out of 13616\r"
     ]
    },
    {
     "name": "stderr",
     "output_type": "stream",
     "text": [
      "/Users/parlos/opt/anaconda3/lib/python3.7/site-packages/skmultiflow/metrics/measure_collection.py:43: FutureWarning: 'ClassificationMeasurements' will be removed in v0.7. Use 'ClassificationPerformanceEvaluator' instead.\n",
      "  format(type(self).__name__), category=FutureWarning)\n"
     ]
    },
    {
     "name": "stdout",
     "output_type": "stream",
     "text": [
      "Missing_rate: 0.98\n"
     ]
    },
    {
     "name": "stderr",
     "output_type": "stream",
     "text": [
      "/Users/parlos/opt/anaconda3/lib/python3.7/site-packages/skmultiflow/metrics/measure_collection.py:43: FutureWarning: 'ClassificationMeasurements' will be removed in v0.7. Use 'ClassificationPerformanceEvaluator' instead.\n",
      "  format(type(self).__name__), category=FutureWarning)\n"
     ]
    },
    {
     "name": "stdout",
     "output_type": "stream",
     "text": [
      "eps is 0.3537433942517063\n",
      "Missing_rate: 0.56\n",
      "eps is 2.667916605898935\n",
      "1009 out of 30000\r"
     ]
    },
    {
     "name": "stderr",
     "output_type": "stream",
     "text": [
      "/Users/parlos/opt/anaconda3/lib/python3.7/site-packages/skmultiflow/metrics/measure_collection.py:43: FutureWarning: 'ClassificationMeasurements' will be removed in v0.7. Use 'ClassificationPerformanceEvaluator' instead.\n",
      "  format(type(self).__name__), category=FutureWarning)\n"
     ]
    },
    {
     "name": "stdout",
     "output_type": "stream",
     "text": [
      "Missing_rate: 0.80\n",
      "eps is 2.667916605898935\n",
      "1024 out of 30000\r"
     ]
    },
    {
     "name": "stderr",
     "output_type": "stream",
     "text": [
      "/Users/parlos/opt/anaconda3/lib/python3.7/site-packages/skmultiflow/metrics/measure_collection.py:43: FutureWarning: 'ClassificationMeasurements' will be removed in v0.7. Use 'ClassificationPerformanceEvaluator' instead.\n",
      "  format(type(self).__name__), category=FutureWarning)\n"
     ]
    },
    {
     "name": "stdout",
     "output_type": "stream",
     "text": [
      "Missing_rate: 0.95\n",
      "eps is 2.667916605898935\n",
      "1014 out of 30000\r"
     ]
    },
    {
     "name": "stderr",
     "output_type": "stream",
     "text": [
      "/Users/parlos/opt/anaconda3/lib/python3.7/site-packages/skmultiflow/metrics/measure_collection.py:43: FutureWarning: 'ClassificationMeasurements' will be removed in v0.7. Use 'ClassificationPerformanceEvaluator' instead.\n",
      "  format(type(self).__name__), category=FutureWarning)\n"
     ]
    },
    {
     "name": "stdout",
     "output_type": "stream",
     "text": [
      "Missing_rate: 0.98\n"
     ]
    },
    {
     "name": "stderr",
     "output_type": "stream",
     "text": [
      "/Users/parlos/opt/anaconda3/lib/python3.7/site-packages/skmultiflow/metrics/measure_collection.py:43: FutureWarning: 'ClassificationMeasurements' will be removed in v0.7. Use 'ClassificationPerformanceEvaluator' instead.\n",
      "  format(type(self).__name__), category=FutureWarning)\n"
     ]
    },
    {
     "name": "stdout",
     "output_type": "stream",
     "text": [
      "eps is 2.667916605898935\n",
      "Missing_rate: 0.50\n",
      "eps is 0.14124715122391382\n",
      "1038 out of 30000\r"
     ]
    },
    {
     "name": "stderr",
     "output_type": "stream",
     "text": [
      "/Users/parlos/opt/anaconda3/lib/python3.7/site-packages/skmultiflow/metrics/measure_collection.py:43: FutureWarning: 'ClassificationMeasurements' will be removed in v0.7. Use 'ClassificationPerformanceEvaluator' instead.\n",
      "  format(type(self).__name__), category=FutureWarning)\n"
     ]
    },
    {
     "name": "stdout",
     "output_type": "stream",
     "text": [
      "Missing_rate: 0.80\n"
     ]
    },
    {
     "name": "stderr",
     "output_type": "stream",
     "text": [
      "/Users/parlos/opt/anaconda3/lib/python3.7/site-packages/skmultiflow/metrics/measure_collection.py:43: FutureWarning: 'ClassificationMeasurements' will be removed in v0.7. Use 'ClassificationPerformanceEvaluator' instead.\n",
      "  format(type(self).__name__), category=FutureWarning)\n"
     ]
    },
    {
     "name": "stdout",
     "output_type": "stream",
     "text": [
      "eps is 0.14124715122391382\n",
      "Missing_rate: 0.95\n",
      "eps is 0.14124715122391382\n",
      "1046 out of 30000\r"
     ]
    },
    {
     "name": "stderr",
     "output_type": "stream",
     "text": [
      "/Users/parlos/opt/anaconda3/lib/python3.7/site-packages/skmultiflow/metrics/measure_collection.py:43: FutureWarning: 'ClassificationMeasurements' will be removed in v0.7. Use 'ClassificationPerformanceEvaluator' instead.\n",
      "  format(type(self).__name__), category=FutureWarning)\n"
     ]
    },
    {
     "name": "stdout",
     "output_type": "stream",
     "text": [
      "Missing_rate: 0.98\n",
      "eps is 0.14124715122391382\n",
      "1004 out of 30000\r"
     ]
    },
    {
     "name": "stderr",
     "output_type": "stream",
     "text": [
      "/Users/parlos/opt/anaconda3/lib/python3.7/site-packages/skmultiflow/metrics/measure_collection.py:43: FutureWarning: 'ClassificationMeasurements' will be removed in v0.7. Use 'ClassificationPerformanceEvaluator' instead.\n",
      "  format(type(self).__name__), category=FutureWarning)\n"
     ]
    },
    {
     "name": "stdout",
     "output_type": "stream",
     "text": [
      "29999 out of 30000\r"
     ]
    }
   ],
   "source": [
    "all_x,all_y = get_data_experiment_NN([data_semi1,data_semi2,data_semi4,data_semi5,data_semi6],[classes1,classes2,classes4,classes5,classes6],[0.5,0.8,0.95,0.98])"
   ]
  },
  {
   "cell_type": "code",
   "execution_count": 23,
   "metadata": {
    "id": "c-oBmWBmlPgV",
    "outputId": "2fd376ec-be2f-4813-c521-372bd36424ea",
    "pycharm": {
     "name": "#%%\n"
    }
   },
   "outputs": [
    {
     "name": "stdout",
     "output_type": "stream",
     "text": [
      "(544611, 1)\n"
     ]
    },
    {
     "data": {
      "text/plain": [
       "(544611, 7)"
      ]
     },
     "execution_count": 23,
     "metadata": {},
     "output_type": "execute_result"
    }
   ],
   "source": [
    "print(np.reshape(np.concatenate(all_y),(-1,1)).shape)\n",
    "np.concatenate(all_x).shape"
   ]
  },
  {
   "cell_type": "code",
   "execution_count": 24,
   "metadata": {
    "id": "8ce4o-CblPgW",
    "pycharm": {
     "name": "#%%\n"
    }
   },
   "outputs": [],
   "source": [
    "all_data = np.hstack((np.concatenate(all_x),np.reshape(np.concatenate(all_y),(-1,1))))"
   ]
  },
  {
   "cell_type": "code",
   "execution_count": null,
   "metadata": {
    "id": "fQEAA_L_lPgX",
    "pycharm": {
     "name": "#%%\n"
    }
   },
   "outputs": [],
   "source": [
    "import pandas as pd\n",
    "pd.DataFrame(all_data).to_csv(\"all_data_NN_new_version.csv\",index=False)"
   ]
  },
  {
   "cell_type": "code",
   "execution_count": 25,
   "metadata": {
    "id": "T2rlsSU1lPgX",
    "pycharm": {
     "name": "#%%\n"
    }
   },
   "outputs": [],
   "source": [
    "np.random.shuffle(all_data)"
   ]
  },
  {
   "cell_type": "code",
   "execution_count": 26,
   "metadata": {
    "id": "SyKByn7vLFPS"
   },
   "outputs": [],
   "source": [
    "pd.DataFrame(all_data).to_csv(\"all_data_NN_new_version_shuffled_improved.csv\",index=False)"
   ]
  },
  {
   "cell_type": "code",
   "execution_count": null,
   "metadata": {
    "colab": {
     "base_uri": "https://localhost:8080/"
    },
    "id": "1HVzT6q8LKFn",
    "outputId": "1ae80087-9000-482c-f4d6-3f5188a92d7c"
   },
   "outputs": [
    {
     "data": {
      "text/plain": [
       "108816"
      ]
     },
     "execution_count": 28,
     "metadata": {
      "tags": []
     },
     "output_type": "execute_result"
    }
   ],
   "source": [
    "np.count_nonzero(all_data[:,-1]==0)"
   ]
  },
  {
   "cell_type": "code",
   "execution_count": null,
   "metadata": {
    "colab": {
     "base_uri": "https://localhost:8080/"
    },
    "id": "KXIVrEI7LMNy",
    "outputId": "5a133fd4-5aaa-4ef0-cb8b-900b3454f2fe"
   },
   "outputs": [
    {
     "data": {
      "text/plain": [
       "15243"
      ]
     },
     "execution_count": 29,
     "metadata": {
      "tags": []
     },
     "output_type": "execute_result"
    }
   ],
   "source": [
    "np.count_nonzero(all_data[:,-1]==1)"
   ]
  },
  {
   "cell_type": "code",
   "execution_count": null,
   "metadata": {
    "colab": {
     "base_uri": "https://localhost:8080/"
    },
    "id": "ffkPRZPTLV_J",
    "outputId": "0c814277-d477-4a2c-886e-5febfcacf662"
   },
   "outputs": [
    {
     "data": {
      "text/plain": [
       "7423"
      ]
     },
     "execution_count": 30,
     "metadata": {
      "tags": []
     },
     "output_type": "execute_result"
    }
   ],
   "source": [
    "np.count_nonzero(all_data[:,-1]==2)"
   ]
  },
  {
   "cell_type": "code",
   "execution_count": null,
   "metadata": {
    "colab": {
     "base_uri": "https://localhost:8080/"
    },
    "id": "J5AZv7jBLX3o",
    "outputId": "658f5c3a-7f82-412f-9389-1088fd3c38cd"
   },
   "outputs": [
    {
     "data": {
      "text/plain": [
       "21682"
      ]
     },
     "execution_count": 31,
     "metadata": {
      "tags": []
     },
     "output_type": "execute_result"
    }
   ],
   "source": [
    "np.count_nonzero(all_data[:,-1]==3)"
   ]
  },
  {
   "cell_type": "code",
   "execution_count": null,
   "metadata": {
    "colab": {
     "base_uri": "https://localhost:8080/"
    },
    "id": "j_ustOyKLZfn",
    "outputId": "f763d587-a579-49d9-9680-479c2967be86"
   },
   "outputs": [
    {
     "data": {
      "text/plain": [
       "28075"
      ]
     },
     "execution_count": 32,
     "metadata": {
      "tags": []
     },
     "output_type": "execute_result"
    }
   ],
   "source": [
    "np.count_nonzero(all_data[:,-1]==4)"
   ]
  },
  {
   "cell_type": "code",
   "execution_count": null,
   "metadata": {
    "colab": {
     "base_uri": "https://localhost:8080/"
    },
    "id": "3T0uto3-La1h",
    "outputId": "f3476e71-3326-4ff7-fbd8-712f7889e559"
   },
   "outputs": [
    {
     "data": {
      "text/plain": [
       "7389"
      ]
     },
     "execution_count": 33,
     "metadata": {
      "tags": []
     },
     "output_type": "execute_result"
    }
   ],
   "source": [
    "np.count_nonzero(all_data[:,-1]==5)"
   ]
  },
  {
   "cell_type": "code",
   "execution_count": null,
   "metadata": {
    "colab": {
     "base_uri": "https://localhost:8080/"
    },
    "id": "K8ZWHwjTLciq",
    "outputId": "3673f834-a586-4928-92fc-75af5511a7e9"
   },
   "outputs": [
    {
     "data": {
      "text/plain": [
       "12927"
      ]
     },
     "execution_count": 34,
     "metadata": {
      "tags": []
     },
     "output_type": "execute_result"
    }
   ],
   "source": [
    "np.count_nonzero(all_data[:,-1]==6)"
   ]
  },
  {
   "cell_type": "code",
   "execution_count": null,
   "metadata": {
    "colab": {
     "base_uri": "https://localhost:8080/"
    },
    "id": "kR-HHiZGLdhG",
    "outputId": "82d10f66-8462-4782-e7f7-68512c2e7a5e"
   },
   "outputs": [
    {
     "data": {
      "text/plain": [
       "365318"
      ]
     },
     "execution_count": 35,
     "metadata": {
      "tags": []
     },
     "output_type": "execute_result"
    }
   ],
   "source": [
    "np.count_nonzero(all_data[:,-1]==7)"
   ]
  },
  {
   "cell_type": "code",
   "execution_count": null,
   "metadata": {
    "id": "TJPqE2jwLeZZ"
   },
   "outputs": [],
   "source": []
  }
 ],
 "metadata": {
  "colab": {
   "name": "get_data_experiment_with_nn.ipynb",
   "provenance": []
  },
  "kernelspec": {
   "display_name": "Python 3",
   "language": "python",
   "name": "python3"
  },
  "language_info": {
   "codemirror_mode": {
    "name": "ipython",
    "version": 3
   },
   "file_extension": ".py",
   "mimetype": "text/x-python",
   "name": "python",
   "nbconvert_exporter": "python",
   "pygments_lexer": "ipython3",
   "version": "3.7.6"
  }
 },
 "nbformat": 4,
 "nbformat_minor": 4
}
